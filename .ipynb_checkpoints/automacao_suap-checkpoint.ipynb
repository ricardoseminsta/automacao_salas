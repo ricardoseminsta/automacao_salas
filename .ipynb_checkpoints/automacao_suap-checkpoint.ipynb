{
 "cells": [
  {
   "cell_type": "markdown",
   "id": "1ddee715",
   "metadata": {},
   "source": [
    "### Automação do SUAP-IFPE versão 0.1"
   ]
  },
  {
   "cell_type": "markdown",
   "id": "2f57f829",
   "metadata": {},
   "source": [
    "#### Importando webdriver e abrindo SUAP"
   ]
  },
  {
   "cell_type": "code",
   "execution_count": null,
   "id": "c32a2839",
   "metadata": {},
   "outputs": [],
   "source": [
    "import pandas as pd\n",
    "\n",
    "tombos_df = pd.read_excel('biblioteca_sala_estudos.xlsx')\n",
    "#display(tombos_df)\n",
    "\n",
    "tombo_impressao = []\n",
    "empenho_impressao = []\n",
    "uasg_impressao = []\n",
    "nf_impressao = []\n",
    "dtnf_impressao = []\n",
    "qrcode_impressao = []\n",
    "\n",
    "carga_impressao = []\n",
    "descricao_impressao = []"
   ]
  },
  {
   "cell_type": "code",
   "execution_count": null,
   "id": "6ac14c87",
   "metadata": {},
   "outputs": [],
   "source": [
    "from selenium import webdriver\n",
    "from selenium.webdriver.common.keys import Keys\n",
    "from selenium.webdriver.support.ui import Select\n",
    "import time\n",
    "\n",
    "\n",
    "\n",
    "def abrir_suap():\n",
    "    \n",
    "    global nav\n",
    "    nav = webdriver.Chrome()\n",
    "    nav.get(\"https://suap.ifpe.edu.br/accounts/login/?next=/\")\n",
    "    # inserindo usuário\n",
    "    nav.find_element_by_xpath('//*[@id=\"id_username\"]').click()\n",
    "    nav.find_element_by_xpath('//*[@id=\"id_username\"]').send_keys(\"2184579\")\n",
    "\n",
    "    # inserindo senha \n",
    "    nav.find_element_by_xpath('//*[@id=\"id_password\"]').click()\n",
    "    nav.find_element_by_xpath('//*[@id=\"id_password\"]').send_keys(\"sis1986%\")\n",
    "\n",
    "    nav.find_element_by_xpath('//*[@id=\"ok\"]').click()\n",
    "\n",
    "    \n",
    "# abrir_suap()\n"
   ]
  },
  {
   "cell_type": "code",
   "execution_count": null,
   "id": "d82b7c76",
   "metadata": {},
   "outputs": [],
   "source": [
    "def trocar_sala():\n",
    "    \n",
    "    abrir_suap()\n",
    "    \n",
    "    for linha in tombos_df[\"tombos\"]:\n",
    "        nav.get(f\"https://suap.ifpe.edu.br/patrimonio/inventario/{linha}/\")\n",
    "\n",
    "        tombo_impressao.append(linha)\n",
    "        print(linha)\n",
    "\n",
    "        carga = nav.find_element_by_xpath(\"/html/body/div[1]/div[3]/table[1]/tbody/tr[7]/td[2]\").get_attribute('innerText')\n",
    "        carga_impressao.append(carga)\n",
    "        print(carga)\n",
    "\n",
    "        descricao = nav.find_element_by_xpath(\"/html/body/div[1]/div[3]/table[1]/tbody/tr[6]/td[2]/span[1]\").get_attribute('innerText')\n",
    "        descricao_impressao.append(descricao)\n",
    "        print(descricao)\n",
    "\n",
    "        valor_sala_suap = nav.find_element_by_xpath('//*[@id=\"id_sala\"]').get_attribute('value')\n",
    "        valor_nova_sala = '1990'\n",
    "\n",
    "        # time.sleep(1)\n",
    "\n",
    "        if valor_sala_suap != valor_nova_sala:\n",
    "            nova_sala = Select(nav.find_element_by_id('id_sala'))\n",
    "            nova_sala.select_by_value(valor_nova_sala)\n",
    "            time.sleep(1)\n",
    "            nav.find_element_by_xpath('/html/body/div[1]/div[3]/form/div[2]/input').click()\n",
    "    \n",
    "    nav.quit()\n",
    "\n",
    "trocar_sala()"
   ]
  },
  {
   "cell_type": "code",
   "execution_count": null,
   "id": "9cf7f7d9",
   "metadata": {},
   "outputs": [],
   "source": [
    "def impressao_etiqueta():\n",
    "    \n",
    "    abrir_suap()\n",
    "    \n",
    "    for linha in tombos_df[\"tombos\"]:\n",
    "    \n",
    "        nav.get(f\"https://suap.ifpe.edu.br/patrimonio/inventario/{linha}/\")\n",
    "        # print(linha)\n",
    "        nav.find_element_by_link_text(\"Detalhes da Entrada\").click()\n",
    "    \n",
    "        empenho = nav.find_element_by_xpath(\"/html/body/div[1]/div[3]/table[1]/tbody/tr[12]/td/a\").get_attribute('innerText')\n",
    "        empenho = empenho[:12]\n",
    "        empenho_impressao.append(empenho)\n",
    "        # print(empenho)\n",
    "\n",
    "        uasg = nav.find_element_by_xpath(\"/html/body/div[1]/div[3]/table[1]/tbody/tr[1]/td\").get_attribute('innerText')\n",
    "        uasg_impressao.append(uasg)\n",
    "        # print(uasg)\n",
    "\n",
    "        nf = nav.find_element_by_xpath(\"/html/body/div[1]/div[3]/table[1]/tbody/tr[4]/td\").get_attribute('innerText')\n",
    "        nf_impressao.append(nf)\n",
    "        # print(nf)\n",
    "\n",
    "        data = nav.find_element_by_xpath(\"/html/body/div[1]/div[3]/table[1]/tbody/tr[5]/td\").get_attribute('innerText')\n",
    "        dtnf_impressao.append(data)\n",
    "        # print(data)\n",
    "\n",
    "        qrcode = str(linha)+\" \"+empenho+\" \"+\" \"+uasg+\" \"+nf+\" \"+data\n",
    "        qrcode_impressao.append(qrcode)\n",
    "        \n",
    "    nav.quit()\n",
    "    \n",
    "impressao_etiqueta()\n"
   ]
  },
  {
   "cell_type": "code",
   "execution_count": null,
   "id": "78b5f4c9",
   "metadata": {},
   "outputs": [],
   "source": [
    "def montar_impressao_etiqueta():\n",
    "    tabela_impressao = pd.DataFrame()\n",
    "    tabela_impressao['patrimonio'] = tombo_impressao\n",
    "    tabela_impressao['empenho'] = empenho_impressao\n",
    "    tabela_impressao['uasg'] = uasg_impressao\n",
    "    tabela_impressao['nota fiscal'] = nf_impressao\n",
    "    tabela_impressao['data nota fiscal'] = dtnf_impressao\n",
    "    tabela_impressao['qrcode'] = qrcode_impressao\n",
    "    display(tabela_impressao)\n",
    "\n",
    "montar_impressao_etiqueta()\n"
   ]
  },
  {
   "cell_type": "code",
   "execution_count": null,
   "id": "18b6e39e",
   "metadata": {},
   "outputs": [],
   "source": [
    "def montar_tabela_carga():\n",
    "    tabela_carga = pd.DataFrame()\n",
    "    tabela_carga['tombo'] = tombo_impressao\n",
    "    tabela_carga['descricao'] = descricao_impressao\n",
    "    tabela_carga['carga'] = carga_impressao\n",
    "\n",
    "    display(tabela_carga)\n",
    "\n",
    "montar_tabela_carga()"
   ]
  }
 ],
 "metadata": {
  "kernelspec": {
   "display_name": "Python 3",
   "language": "python",
   "name": "python3"
  },
  "language_info": {
   "codemirror_mode": {
    "name": "ipython",
    "version": 3
   },
   "file_extension": ".py",
   "mimetype": "text/x-python",
   "name": "python",
   "nbconvert_exporter": "python",
   "pygments_lexer": "ipython3",
   "version": "3.8.8"
  }
 },
 "nbformat": 4,
 "nbformat_minor": 5
}
