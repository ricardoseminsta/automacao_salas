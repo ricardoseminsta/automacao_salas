{
 "cells": [
  {
   "cell_type": "markdown",
   "id": "1ddee715",
   "metadata": {},
   "source": [
    "### Automação do SUAP-IFPE versão 0.1"
   ]
  },
  {
   "cell_type": "markdown",
   "id": "2f57f829",
   "metadata": {},
   "source": [
    "#### Importando webdriver e abrindo SUAP"
   ]
  },
  {
   "cell_type": "code",
   "execution_count": 1,
   "id": "c32a2839",
   "metadata": {},
   "outputs": [
    {
     "data": {
      "text/html": [
       "<div>\n",
       "<style scoped>\n",
       "    .dataframe tbody tr th:only-of-type {\n",
       "        vertical-align: middle;\n",
       "    }\n",
       "\n",
       "    .dataframe tbody tr th {\n",
       "        vertical-align: top;\n",
       "    }\n",
       "\n",
       "    .dataframe thead th {\n",
       "        text-align: right;\n",
       "    }\n",
       "</style>\n",
       "<table border=\"1\" class=\"dataframe\">\n",
       "  <thead>\n",
       "    <tr style=\"text-align: right;\">\n",
       "      <th></th>\n",
       "      <th>tombo</th>\n",
       "    </tr>\n",
       "  </thead>\n",
       "  <tbody>\n",
       "    <tr>\n",
       "      <th>0</th>\n",
       "      <td>239278</td>\n",
       "    </tr>\n",
       "    <tr>\n",
       "      <th>1</th>\n",
       "      <td>239279</td>\n",
       "    </tr>\n",
       "    <tr>\n",
       "      <th>2</th>\n",
       "      <td>123521</td>\n",
       "    </tr>\n",
       "    <tr>\n",
       "      <th>3</th>\n",
       "      <td>167047</td>\n",
       "    </tr>\n",
       "    <tr>\n",
       "      <th>4</th>\n",
       "      <td>37751</td>\n",
       "    </tr>\n",
       "  </tbody>\n",
       "</table>\n",
       "</div>"
      ],
      "text/plain": [
       "    tombo\n",
       "0  239278\n",
       "1  239279\n",
       "2  123521\n",
       "3  167047\n",
       "4   37751"
      ]
     },
     "metadata": {},
     "output_type": "display_data"
    }
   ],
   "source": [
    "import pandas as pd\n",
    "\n",
    "tombos_df = pd.read_excel('sala_aula_h_06.xlsx')\n",
    "display(tombos_df.head())\n",
    "\n",
    "tombo_impressao = []\n",
    "empenho_impressao = []\n",
    "uasg_impressao = []\n",
    "nf_impressao = []\n",
    "dtnf_impressao = []\n",
    "qrcode_impressao = []\n",
    "\n",
    "carga_impressao = []\n",
    "descricao_impressao = []"
   ]
  },
  {
   "cell_type": "code",
   "execution_count": 3,
   "id": "6ac14c87",
   "metadata": {},
   "outputs": [],
   "source": [
    "from selenium import webdriver\n",
    "from selenium.webdriver.common.keys import Keys\n",
    "from selenium.webdriver.support.ui import Select\n",
    "import time\n",
    "\n",
    "\n",
    "\n",
    "def abrir_suap():\n",
    "    \n",
    "    global nav\n",
    "    nav = webdriver.Chrome()\n",
    "    nav.get(\"https://suap.ifpe.edu.br/accounts/login/?next=/\")\n",
    "    # inserindo usuário\n",
    "    nav.find_element_by_xpath('//*[@id=\"id_username\"]').click()\n",
    "    nav.find_element_by_xpath('//*[@id=\"id_username\"]').send_keys(\"2184579\")\n",
    "\n",
    "    # inserindo senha \n",
    "    nav.find_element_by_xpath('//*[@id=\"id_password\"]').click()\n",
    "    nav.find_element_by_xpath('//*[@id=\"id_password\"]').send_keys(\"sis1986%\")\n",
    "\n",
    "    nav.find_element_by_xpath('//*[@id=\"ok\"]').click()\n",
    "\n",
    "    \n",
    "# abrir_suap()\n"
   ]
  },
  {
   "cell_type": "code",
   "execution_count": null,
   "id": "d82b7c76",
   "metadata": {},
   "outputs": [],
   "source": [
    "def trocar_sala():\n",
    "    \n",
    "    abrir_suap()\n",
    "    \n",
    "    for linha in tombos_df[\"tombo\"]:\n",
    "        nav.get(f\"https://suap.ifpe.edu.br/patrimonio/inventario/{linha}/\")\n",
    "\n",
    "        tombo_impressao.append(linha)\n",
    "        print(linha)\n",
    "\n",
    "        carga = nav.find_element_by_xpath(\"/html/body/div[1]/div[3]/table[1]/tbody/tr[7]/td[2]\").get_attribute('innerText')\n",
    "        carga_impressao.append(carga)\n",
    "        print(carga)\n",
    "\n",
    "        descricao = nav.find_element_by_xpath(\"/html/body/div[1]/div[3]/table[1]/tbody/tr[6]/td[2]/span[1]\").get_attribute('innerText')\n",
    "        descricao_impressao.append(descricao)\n",
    "        print(descricao)\n",
    "\n",
    "        valor_sala_suap = nav.find_element_by_xpath('//*[@id=\"id_sala\"]').get_attribute('value')\n",
    "        valor_nova_sala = '1990'\n",
    "\n",
    "        # time.sleep(1)\n",
    "\n",
    "        if valor_sala_suap != valor_nova_sala:\n",
    "            nova_sala = Select(nav.find_element_by_id('id_sala'))\n",
    "            nova_sala.select_by_value(valor_nova_sala)\n",
    "            time.sleep(1)\n",
    "            nav.find_element_by_xpath('/html/body/div[1]/div[3]/form/div[2]/input').click()\n",
    "    \n",
    "    nav.quit()\n",
    "\n",
    "trocar_sala()"
   ]
  },
  {
   "cell_type": "code",
   "execution_count": 4,
   "id": "9cf7f7d9",
   "metadata": {},
   "outputs": [
    {
     "ename": "NoSuchElementException",
     "evalue": "Message: no such element: Unable to locate element: {\"method\":\"link text\",\"selector\":\"Detalhes da Entrada\"}\n  (Session info: chrome=91.0.4472.124)\n",
     "output_type": "error",
     "traceback": [
      "\u001b[1;31m---------------------------------------------------------------------------\u001b[0m",
      "\u001b[1;31mNoSuchElementException\u001b[0m                    Traceback (most recent call last)",
      "\u001b[1;32m<ipython-input-4-6f6bfa0a3a3d>\u001b[0m in \u001b[0;36m<module>\u001b[1;34m\u001b[0m\n\u001b[0;32m     34\u001b[0m     \u001b[0mnav\u001b[0m\u001b[1;33m.\u001b[0m\u001b[0mquit\u001b[0m\u001b[1;33m(\u001b[0m\u001b[1;33m)\u001b[0m\u001b[1;33m\u001b[0m\u001b[1;33m\u001b[0m\u001b[0m\n\u001b[0;32m     35\u001b[0m \u001b[1;33m\u001b[0m\u001b[0m\n\u001b[1;32m---> 36\u001b[1;33m \u001b[0mimpressao_etiqueta\u001b[0m\u001b[1;33m(\u001b[0m\u001b[1;33m)\u001b[0m\u001b[1;33m\u001b[0m\u001b[1;33m\u001b[0m\u001b[0m\n\u001b[0m",
      "\u001b[1;32m<ipython-input-4-6f6bfa0a3a3d>\u001b[0m in \u001b[0;36mimpressao_etiqueta\u001b[1;34m()\u001b[0m\n\u001b[0;32m      7\u001b[0m         \u001b[0mnav\u001b[0m\u001b[1;33m.\u001b[0m\u001b[0mget\u001b[0m\u001b[1;33m(\u001b[0m\u001b[1;34mf\"https://suap.ifpe.edu.br/patrimonio/inventario/{linha}/\"\u001b[0m\u001b[1;33m)\u001b[0m\u001b[1;33m\u001b[0m\u001b[1;33m\u001b[0m\u001b[0m\n\u001b[0;32m      8\u001b[0m         \u001b[1;31m# print(linha)\u001b[0m\u001b[1;33m\u001b[0m\u001b[1;33m\u001b[0m\u001b[1;33m\u001b[0m\u001b[0m\n\u001b[1;32m----> 9\u001b[1;33m         \u001b[0mnav\u001b[0m\u001b[1;33m.\u001b[0m\u001b[0mfind_element_by_link_text\u001b[0m\u001b[1;33m(\u001b[0m\u001b[1;34m\"Detalhes da Entrada\"\u001b[0m\u001b[1;33m)\u001b[0m\u001b[1;33m.\u001b[0m\u001b[0mclick\u001b[0m\u001b[1;33m(\u001b[0m\u001b[1;33m)\u001b[0m\u001b[1;33m\u001b[0m\u001b[1;33m\u001b[0m\u001b[0m\n\u001b[0m\u001b[0;32m     10\u001b[0m \u001b[1;33m\u001b[0m\u001b[0m\n\u001b[0;32m     11\u001b[0m         \u001b[0mtombo_impressao\u001b[0m\u001b[1;33m.\u001b[0m\u001b[0mappend\u001b[0m\u001b[1;33m(\u001b[0m\u001b[0mlinha\u001b[0m\u001b[1;33m)\u001b[0m\u001b[1;33m\u001b[0m\u001b[1;33m\u001b[0m\u001b[0m\n",
      "\u001b[1;32m~\\anaconda3\\lib\\site-packages\\selenium\\webdriver\\remote\\webdriver.py\u001b[0m in \u001b[0;36mfind_element_by_link_text\u001b[1;34m(self, link_text)\u001b[0m\n\u001b[0;32m    426\u001b[0m             \u001b[0melement\u001b[0m \u001b[1;33m=\u001b[0m \u001b[0mdriver\u001b[0m\u001b[1;33m.\u001b[0m\u001b[0mfind_element_by_link_text\u001b[0m\u001b[1;33m(\u001b[0m\u001b[1;34m'Sign In'\u001b[0m\u001b[1;33m)\u001b[0m\u001b[1;33m\u001b[0m\u001b[1;33m\u001b[0m\u001b[0m\n\u001b[0;32m    427\u001b[0m         \"\"\"\n\u001b[1;32m--> 428\u001b[1;33m         \u001b[1;32mreturn\u001b[0m \u001b[0mself\u001b[0m\u001b[1;33m.\u001b[0m\u001b[0mfind_element\u001b[0m\u001b[1;33m(\u001b[0m\u001b[0mby\u001b[0m\u001b[1;33m=\u001b[0m\u001b[0mBy\u001b[0m\u001b[1;33m.\u001b[0m\u001b[0mLINK_TEXT\u001b[0m\u001b[1;33m,\u001b[0m \u001b[0mvalue\u001b[0m\u001b[1;33m=\u001b[0m\u001b[0mlink_text\u001b[0m\u001b[1;33m)\u001b[0m\u001b[1;33m\u001b[0m\u001b[1;33m\u001b[0m\u001b[0m\n\u001b[0m\u001b[0;32m    429\u001b[0m \u001b[1;33m\u001b[0m\u001b[0m\n\u001b[0;32m    430\u001b[0m     \u001b[1;32mdef\u001b[0m \u001b[0mfind_elements_by_link_text\u001b[0m\u001b[1;33m(\u001b[0m\u001b[0mself\u001b[0m\u001b[1;33m,\u001b[0m \u001b[0mtext\u001b[0m\u001b[1;33m)\u001b[0m\u001b[1;33m:\u001b[0m\u001b[1;33m\u001b[0m\u001b[1;33m\u001b[0m\u001b[0m\n",
      "\u001b[1;32m~\\anaconda3\\lib\\site-packages\\selenium\\webdriver\\remote\\webdriver.py\u001b[0m in \u001b[0;36mfind_element\u001b[1;34m(self, by, value)\u001b[0m\n\u001b[0;32m    974\u001b[0m                 \u001b[0mby\u001b[0m \u001b[1;33m=\u001b[0m \u001b[0mBy\u001b[0m\u001b[1;33m.\u001b[0m\u001b[0mCSS_SELECTOR\u001b[0m\u001b[1;33m\u001b[0m\u001b[1;33m\u001b[0m\u001b[0m\n\u001b[0;32m    975\u001b[0m                 \u001b[0mvalue\u001b[0m \u001b[1;33m=\u001b[0m \u001b[1;34m'[name=\"%s\"]'\u001b[0m \u001b[1;33m%\u001b[0m \u001b[0mvalue\u001b[0m\u001b[1;33m\u001b[0m\u001b[1;33m\u001b[0m\u001b[0m\n\u001b[1;32m--> 976\u001b[1;33m         return self.execute(Command.FIND_ELEMENT, {\n\u001b[0m\u001b[0;32m    977\u001b[0m             \u001b[1;34m'using'\u001b[0m\u001b[1;33m:\u001b[0m \u001b[0mby\u001b[0m\u001b[1;33m,\u001b[0m\u001b[1;33m\u001b[0m\u001b[1;33m\u001b[0m\u001b[0m\n\u001b[0;32m    978\u001b[0m             'value': value})['value']\n",
      "\u001b[1;32m~\\anaconda3\\lib\\site-packages\\selenium\\webdriver\\remote\\webdriver.py\u001b[0m in \u001b[0;36mexecute\u001b[1;34m(self, driver_command, params)\u001b[0m\n\u001b[0;32m    319\u001b[0m         \u001b[0mresponse\u001b[0m \u001b[1;33m=\u001b[0m \u001b[0mself\u001b[0m\u001b[1;33m.\u001b[0m\u001b[0mcommand_executor\u001b[0m\u001b[1;33m.\u001b[0m\u001b[0mexecute\u001b[0m\u001b[1;33m(\u001b[0m\u001b[0mdriver_command\u001b[0m\u001b[1;33m,\u001b[0m \u001b[0mparams\u001b[0m\u001b[1;33m)\u001b[0m\u001b[1;33m\u001b[0m\u001b[1;33m\u001b[0m\u001b[0m\n\u001b[0;32m    320\u001b[0m         \u001b[1;32mif\u001b[0m \u001b[0mresponse\u001b[0m\u001b[1;33m:\u001b[0m\u001b[1;33m\u001b[0m\u001b[1;33m\u001b[0m\u001b[0m\n\u001b[1;32m--> 321\u001b[1;33m             \u001b[0mself\u001b[0m\u001b[1;33m.\u001b[0m\u001b[0merror_handler\u001b[0m\u001b[1;33m.\u001b[0m\u001b[0mcheck_response\u001b[0m\u001b[1;33m(\u001b[0m\u001b[0mresponse\u001b[0m\u001b[1;33m)\u001b[0m\u001b[1;33m\u001b[0m\u001b[1;33m\u001b[0m\u001b[0m\n\u001b[0m\u001b[0;32m    322\u001b[0m             response['value'] = self._unwrap_value(\n\u001b[0;32m    323\u001b[0m                 response.get('value', None))\n",
      "\u001b[1;32m~\\anaconda3\\lib\\site-packages\\selenium\\webdriver\\remote\\errorhandler.py\u001b[0m in \u001b[0;36mcheck_response\u001b[1;34m(self, response)\u001b[0m\n\u001b[0;32m    240\u001b[0m                 \u001b[0malert_text\u001b[0m \u001b[1;33m=\u001b[0m \u001b[0mvalue\u001b[0m\u001b[1;33m[\u001b[0m\u001b[1;34m'alert'\u001b[0m\u001b[1;33m]\u001b[0m\u001b[1;33m.\u001b[0m\u001b[0mget\u001b[0m\u001b[1;33m(\u001b[0m\u001b[1;34m'text'\u001b[0m\u001b[1;33m)\u001b[0m\u001b[1;33m\u001b[0m\u001b[1;33m\u001b[0m\u001b[0m\n\u001b[0;32m    241\u001b[0m             \u001b[1;32mraise\u001b[0m \u001b[0mexception_class\u001b[0m\u001b[1;33m(\u001b[0m\u001b[0mmessage\u001b[0m\u001b[1;33m,\u001b[0m \u001b[0mscreen\u001b[0m\u001b[1;33m,\u001b[0m \u001b[0mstacktrace\u001b[0m\u001b[1;33m,\u001b[0m \u001b[0malert_text\u001b[0m\u001b[1;33m)\u001b[0m\u001b[1;33m\u001b[0m\u001b[1;33m\u001b[0m\u001b[0m\n\u001b[1;32m--> 242\u001b[1;33m         \u001b[1;32mraise\u001b[0m \u001b[0mexception_class\u001b[0m\u001b[1;33m(\u001b[0m\u001b[0mmessage\u001b[0m\u001b[1;33m,\u001b[0m \u001b[0mscreen\u001b[0m\u001b[1;33m,\u001b[0m \u001b[0mstacktrace\u001b[0m\u001b[1;33m)\u001b[0m\u001b[1;33m\u001b[0m\u001b[1;33m\u001b[0m\u001b[0m\n\u001b[0m\u001b[0;32m    243\u001b[0m \u001b[1;33m\u001b[0m\u001b[0m\n\u001b[0;32m    244\u001b[0m     \u001b[1;32mdef\u001b[0m \u001b[0m_value_or_default\u001b[0m\u001b[1;33m(\u001b[0m\u001b[0mself\u001b[0m\u001b[1;33m,\u001b[0m \u001b[0mobj\u001b[0m\u001b[1;33m,\u001b[0m \u001b[0mkey\u001b[0m\u001b[1;33m,\u001b[0m \u001b[0mdefault\u001b[0m\u001b[1;33m)\u001b[0m\u001b[1;33m:\u001b[0m\u001b[1;33m\u001b[0m\u001b[1;33m\u001b[0m\u001b[0m\n",
      "\u001b[1;31mNoSuchElementException\u001b[0m: Message: no such element: Unable to locate element: {\"method\":\"link text\",\"selector\":\"Detalhes da Entrada\"}\n  (Session info: chrome=91.0.4472.124)\n"
     ]
    }
   ],
   "source": [
    "def impressao_etiqueta():\n",
    "    \n",
    "    abrir_suap()\n",
    "    \n",
    "    for linha in tombos_df[\"tombo\"]:\n",
    "    \n",
    "        nav.get(f\"https://suap.ifpe.edu.br/patrimonio/inventario/{linha}/\")\n",
    "        # print(linha)\n",
    "        nav.find_element_by_link_text(\"Detalhes da Entrada\").click()\n",
    "        \n",
    "        tombo_impressao.append(linha)\n",
    "        # print(linha)\n",
    "    \n",
    "        empenho = nav.find_element_by_xpath(\"/html/body/div[1]/div[3]/table[1]/tbody/tr[12]/td/a\").get_attribute('innerText')\n",
    "        empenho = empenho[:12]\n",
    "        empenho_impressao.append(empenho)\n",
    "        # print(empenho)\n",
    "\n",
    "        uasg = nav.find_element_by_xpath(\"/html/body/div[1]/div[3]/table[1]/tbody/tr[1]/td\").get_attribute('innerText')\n",
    "        uasg_impressao.append(uasg)\n",
    "        # print(uasg)\n",
    "\n",
    "        nf = nav.find_element_by_xpath(\"/html/body/div[1]/div[3]/table[1]/tbody/tr[4]/td\").get_attribute('innerText')\n",
    "        nf_impressao.append(nf)\n",
    "        # print(nf)\n",
    "\n",
    "        data = nav.find_element_by_xpath(\"/html/body/div[1]/div[3]/table[1]/tbody/tr[5]/td\").get_attribute('innerText')\n",
    "        dtnf_impressao.append(data)\n",
    "        # print(data)\n",
    "\n",
    "        qrcode = str(linha)+\" \"+empenho+\" \"+\" \"+uasg+\" \"+nf+\" \"+data\n",
    "        qrcode_impressao.append(qrcode)\n",
    "        \n",
    "    nav.quit()\n",
    "    \n",
    "impressao_etiqueta()"
   ]
  },
  {
   "cell_type": "code",
   "execution_count": null,
   "id": "78b5f4c9",
   "metadata": {},
   "outputs": [],
   "source": [
    "def montar_impressao_etiqueta():\n",
    "    tabela_impressao = pd.DataFrame()\n",
    "    tabela_impressao['patrimonio'] = tombo_impressao\n",
    "    tabela_impressao['empenho'] = empenho_impressao\n",
    "    tabela_impressao['uasg'] = uasg_impressao\n",
    "    tabela_impressao['nota fiscal'] = nf_impressao\n",
    "    tabela_impressao['data nota fiscal'] = dtnf_impressao\n",
    "    tabela_impressao['qrcode'] = qrcode_impressao\n",
    "    display(tabela_impressao.head())\n",
    "    tabela_impressao.to_excel(\"sala_aula_h_05_impressao.xls\", index=False, sheet_name=\"plan1\")\n",
    "\n",
    "montar_impressao_etiqueta()\n"
   ]
  },
  {
   "cell_type": "code",
   "execution_count": null,
   "id": "18b6e39e",
   "metadata": {},
   "outputs": [],
   "source": [
    "def montar_tabela_carga():\n",
    "    tabela_carga = pd.DataFrame()\n",
    "    tabela_carga['tombo'] = tombo_impressao\n",
    "    tabela_carga['descricao'] = descricao_impressao\n",
    "    tabela_carga['carga'] = carga_impressao\n",
    "\n",
    "    display(tabela_carga)\n",
    "\n",
    "montar_tabela_carga()"
   ]
  },
  {
   "cell_type": "code",
   "execution_count": null,
   "id": "9414010e",
   "metadata": {},
   "outputs": [],
   "source": []
  }
 ],
 "metadata": {
  "kernelspec": {
   "display_name": "Python 3",
   "language": "python",
   "name": "python3"
  },
  "language_info": {
   "codemirror_mode": {
    "name": "ipython",
    "version": 3
   },
   "file_extension": ".py",
   "mimetype": "text/x-python",
   "name": "python",
   "nbconvert_exporter": "python",
   "pygments_lexer": "ipython3",
   "version": "3.8.8"
  }
 },
 "nbformat": 4,
 "nbformat_minor": 5
}
