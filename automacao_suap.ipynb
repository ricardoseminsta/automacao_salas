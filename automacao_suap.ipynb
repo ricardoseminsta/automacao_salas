{
 "cells": [
  {
   "cell_type": "markdown",
   "id": "1ddee715",
   "metadata": {},
   "source": [
    "### Automação do SUAP-IFPE versão 0.1"
   ]
  },
  {
   "cell_type": "markdown",
   "id": "2f57f829",
   "metadata": {},
   "source": [
    "#### Importando webdriver e abrindo SUAP"
   ]
  },
  {
   "cell_type": "code",
   "execution_count": 2,
   "id": "c32a2839",
   "metadata": {},
   "outputs": [
    {
     "name": "stdout",
     "output_type": "stream",
     "text": [
      "<class 'pandas.core.frame.DataFrame'>\n",
      "RangeIndex: 91 entries, 0 to 90\n",
      "Data columns (total 1 columns):\n",
      " #   Column  Non-Null Count  Dtype\n",
      "---  ------  --------------  -----\n",
      " 0   tombo   91 non-null     int64\n",
      "dtypes: int64(1)\n",
      "memory usage: 856.0 bytes\n",
      "None\n"
     ]
    }
   ],
   "source": [
    "import pandas as pd\n",
    "\n",
    "arquivo = 'priori_0_100.xlsx'\n",
    "tombos_df = pd.read_excel(arquivo)\n",
    "#display(tombos_df.head())\n",
    "print(tombos_df.info())\n",
    "\n",
    "autentica = pd.read_excel('ls.xlsx')\n",
    "\n",
    "login = str(autentica['login'][0])\n",
    "senha = str(autentica['senha'][0])\n",
    "\n",
    "indisponivel = \"indisponivel\""
   ]
  },
  {
   "cell_type": "code",
   "execution_count": 3,
   "id": "6ac14c87",
   "metadata": {},
   "outputs": [],
   "source": [
    "from selenium import webdriver\n",
    "from selenium.webdriver.common.keys import Keys\n",
    "from selenium.webdriver.support.ui import Select\n",
    "from selenium.common.exceptions import NoSuchElementException\n",
    "import time\n",
    "\n",
    "\n",
    "\n",
    "def abrir_suap():\n",
    "    \n",
    "    global nav\n",
    "    nav = webdriver.Chrome()\n",
    "    nav.get(\"https://suap.ifpe.edu.br/accounts/login/?next=/\")\n",
    "    # inserindo usuário\n",
    "    nav.find_element_by_xpath('//*[@id=\"id_username\"]').click()\n",
    "    nav.find_element_by_xpath('//*[@id=\"id_username\"]').send_keys(login)\n",
    "\n",
    "    # inserindo senha \n",
    "    nav.find_element_by_xpath('//*[@id=\"id_password\"]').click()\n",
    "    nav.find_element_by_xpath('//*[@id=\"id_password\"]').send_keys(senha)\n",
    "\n",
    "    nav.find_element_by_xpath('//*[@id=\"ok\"]').click()"
   ]
  },
  {
   "cell_type": "code",
   "execution_count": 4,
   "id": "d82b7c76",
   "metadata": {},
   "outputs": [],
   "source": [
    "def trocar_sala():\n",
    "    \n",
    "    abrir_suap()\n",
    "    \n",
    "    for linha in tombos_df[\"tombo\"]:\n",
    "        try:\n",
    "            nav.get(f\"https://suap.ifpe.edu.br/patrimonio/inventario/{linha}/\")\n",
    "\n",
    "            valor_sala_suap = nav.find_element_by_xpath('//*[@id=\"id_sala\"]').get_attribute('value')\n",
    "            valor_nova_sala = '2100'\n",
    "\n",
    "            # time.sleep(1)\n",
    "\n",
    "            if valor_sala_suap != valor_nova_sala:\n",
    "                nova_sala = Select(nav.find_element_by_id('id_sala'))\n",
    "                nova_sala.select_by_value(valor_nova_sala)\n",
    "                time.sleep(1)\n",
    "                nav.find_element_by_xpath('/html/body/div[1]/div[3]/form/div[2]/input').click()\n",
    "        \n",
    "        except NoSuchElementException:\n",
    "            continue\n",
    "\n",
    "    \n",
    "    nav.quit()"
   ]
  },
  {
   "cell_type": "code",
   "execution_count": 5,
   "id": "d5612372",
   "metadata": {},
   "outputs": [],
   "source": [
    "def listar_carga():\n",
    "    \n",
    "    abrir_suap()\n",
    "    \n",
    "    tombo_impressao = []\n",
    "    carga_impressao = []\n",
    "    descricao_impressao = []    \n",
    "    \n",
    "    for linha in tombos_df[\"tombo\"]:\n",
    "        \n",
    "        tombo_impressao.append(linha)\n",
    "        # print(linha)\n",
    "        \n",
    "        try:\n",
    "            nav.get(f\"https://suap.ifpe.edu.br/patrimonio/inventario/{linha}/\")\n",
    "\n",
    "            carga = nav.find_element_by_xpath(\"/html/body/div[1]/div[3]/table[1]/tbody/tr[7]/td[2]\").get_attribute('innerText')\n",
    "            carga_impressao.append(carga)\n",
    "            # print(carga)\n",
    "\n",
    "            descricao = nav.find_element_by_xpath(\"/html/body/div[1]/div[3]/table[1]/tbody/tr[6]/td[2]/span[1]\").get_attribute('innerText')\n",
    "            descricao_impressao.append(descricao)\n",
    "            # print(descricao)\n",
    "        except NoSuchElementException:\n",
    "            carga_impressao.append(indisponivel)\n",
    "            descricao_impressao.append(indisponivel)\n",
    "            continue\n",
    "            \n",
    "    tabela_carga = pd.DataFrame()\n",
    "    tabela_carga['tombo'] = tombo_impressao\n",
    "    tabela_carga['descricao'] = descricao_impressao\n",
    "    tabela_carga['carga'] = carga_impressao\n",
    "\n",
    "    #display(tabela_carga)\n",
    "\n",
    "    tabela_carga.to_excel(\"lista_carga\"+arquivo, index=False, sheet_name=\"plan1\")\n",
    "        \n",
    "    nav.quit()"
   ]
  },
  {
   "cell_type": "code",
   "execution_count": 6,
   "id": "9cf7f7d9",
   "metadata": {},
   "outputs": [],
   "source": [
    "def impressao_etiqueta():\n",
    "    \n",
    "    abrir_suap()\n",
    "    \n",
    "    tombo_etiqueta = []    \n",
    "    empenho_impressao = []\n",
    "    uasg_impressao = []\n",
    "    nf_impressao = []\n",
    "    dtnf_impressao = []\n",
    "    qrcode_impressao = []\n",
    "    \n",
    "    for linha in tombos_df[\"tombo\"]:\n",
    "        \n",
    "        tombo_etiqueta.append(linha)\n",
    "        # print(linha)\n",
    "        \n",
    "        try:\n",
    "            nav.get(f\"https://suap.ifpe.edu.br/patrimonio/inventario/{linha}/\")\n",
    "            nav.find_element_by_link_text(\"Detalhes da Entrada\").click()\n",
    "\n",
    "            empenho = nav.find_element_by_xpath(\"/html/body/div[1]/div[3]/table[1]/tbody/tr[12]/td/a\").get_attribute('innerText')\n",
    "            empenho = empenho[:12]\n",
    "            empenho_impressao.append(empenho)\n",
    "            # print(empenho)\n",
    "        \n",
    "            uasg = nav.find_element_by_xpath(\"/html/body/div[1]/div[3]/table[1]/tbody/tr[1]/td\").get_attribute('innerText')\n",
    "            uasg_impressao.append(uasg)\n",
    "            # print(uasg)\n",
    "\n",
    "            nf = nav.find_element_by_xpath(\"/html/body/div[1]/div[3]/table[1]/tbody/tr[4]/td\").get_attribute('innerText')\n",
    "            nf_impressao.append(nf)\n",
    "            # print(nf)\n",
    "\n",
    "            data = nav.find_element_by_xpath(\"/html/body/div[1]/div[3]/table[1]/tbody/tr[5]/td\").get_attribute('innerText')\n",
    "            dtnf_impressao.append(data)\n",
    "            # print(data)\n",
    "\n",
    "            qrcode = str(linha)+\" \"+empenho+\" \"+\" \"+uasg+\" \"+nf+\" \"+data\n",
    "            qrcode_impressao.append(qrcode)\n",
    "\n",
    "            \n",
    "        except NoSuchElementException:\n",
    "            # print(indisponivel)\n",
    "            empenho_impressao.append(indisponivel)\n",
    "            uasg_impressao.append(indisponivel)\n",
    "            nf_impressao.append(indisponivel)\n",
    "            dtnf_impressao.append(indisponivel)\n",
    "            qrcode_impressao.append(indisponivel)\n",
    "            continue    \n",
    "        \n",
    "    tabela_impressao = pd.DataFrame()\n",
    "    tabela_impressao['patrimonio'] = tombo_etiqueta\n",
    "    tabela_impressao['empenho'] = empenho_impressao\n",
    "    tabela_impressao['uasg'] = uasg_impressao\n",
    "    tabela_impressao['nota fiscal'] = nf_impressao\n",
    "    tabela_impressao['data nota fiscal'] = dtnf_impressao\n",
    "    tabela_impressao['qrcode'] = qrcode_impressao\n",
    "    \n",
    "#     display(tabela_impressao)\n",
    "    \n",
    "    tabela_impressao.to_excel(\"impressao_\"+arquivo, index=False, sheet_name=\"plan1\")\n",
    "        \n",
    "\n",
    "    nav.quit()"
   ]
  },
  {
   "cell_type": "code",
   "execution_count": 7,
   "id": "43dc9326",
   "metadata": {
    "scrolled": false
   },
   "outputs": [
    {
     "ename": "WebDriverException",
     "evalue": "Message: chrome not reachable\n  (Session info: chrome=92.0.4515.159)\n",
     "output_type": "error",
     "traceback": [
      "\u001b[1;31m---------------------------------------------------------------------------\u001b[0m",
      "\u001b[1;31mWebDriverException\u001b[0m                        Traceback (most recent call last)",
      "\u001b[1;32m<ipython-input-7-075455ce062e>\u001b[0m in \u001b[0;36m<module>\u001b[1;34m\u001b[0m\n\u001b[1;32m----> 1\u001b[1;33m \u001b[0mimpressao_etiqueta\u001b[0m\u001b[1;33m(\u001b[0m\u001b[1;33m)\u001b[0m\u001b[1;33m\u001b[0m\u001b[1;33m\u001b[0m\u001b[0m\n\u001b[0m\u001b[0;32m      2\u001b[0m \u001b[1;31m# trocar_sala()\u001b[0m\u001b[1;33m\u001b[0m\u001b[1;33m\u001b[0m\u001b[1;33m\u001b[0m\u001b[0m\n\u001b[0;32m      3\u001b[0m \u001b[1;31m# listar_carga()\u001b[0m\u001b[1;33m\u001b[0m\u001b[1;33m\u001b[0m\u001b[1;33m\u001b[0m\u001b[0m\n",
      "\u001b[1;32m<ipython-input-6-ecd7c1b3d713>\u001b[0m in \u001b[0;36mimpressao_etiqueta\u001b[1;34m()\u001b[0m\n\u001b[0;32m     19\u001b[0m             \u001b[0mnav\u001b[0m\u001b[1;33m.\u001b[0m\u001b[0mfind_element_by_link_text\u001b[0m\u001b[1;33m(\u001b[0m\u001b[1;34m\"Detalhes da Entrada\"\u001b[0m\u001b[1;33m)\u001b[0m\u001b[1;33m.\u001b[0m\u001b[0mclick\u001b[0m\u001b[1;33m(\u001b[0m\u001b[1;33m)\u001b[0m\u001b[1;33m\u001b[0m\u001b[1;33m\u001b[0m\u001b[0m\n\u001b[0;32m     20\u001b[0m \u001b[1;33m\u001b[0m\u001b[0m\n\u001b[1;32m---> 21\u001b[1;33m             \u001b[0mempenho\u001b[0m \u001b[1;33m=\u001b[0m \u001b[0mnav\u001b[0m\u001b[1;33m.\u001b[0m\u001b[0mfind_element_by_xpath\u001b[0m\u001b[1;33m(\u001b[0m\u001b[1;34m\"/html/body/div[1]/div[3]/table[1]/tbody/tr[12]/td/a\"\u001b[0m\u001b[1;33m)\u001b[0m\u001b[1;33m.\u001b[0m\u001b[0mget_attribute\u001b[0m\u001b[1;33m(\u001b[0m\u001b[1;34m'innerText'\u001b[0m\u001b[1;33m)\u001b[0m\u001b[1;33m\u001b[0m\u001b[1;33m\u001b[0m\u001b[0m\n\u001b[0m\u001b[0;32m     22\u001b[0m             \u001b[0mempenho\u001b[0m \u001b[1;33m=\u001b[0m \u001b[0mempenho\u001b[0m\u001b[1;33m[\u001b[0m\u001b[1;33m:\u001b[0m\u001b[1;36m12\u001b[0m\u001b[1;33m]\u001b[0m\u001b[1;33m\u001b[0m\u001b[1;33m\u001b[0m\u001b[0m\n\u001b[0;32m     23\u001b[0m             \u001b[0mempenho_impressao\u001b[0m\u001b[1;33m.\u001b[0m\u001b[0mappend\u001b[0m\u001b[1;33m(\u001b[0m\u001b[0mempenho\u001b[0m\u001b[1;33m)\u001b[0m\u001b[1;33m\u001b[0m\u001b[1;33m\u001b[0m\u001b[0m\n",
      "\u001b[1;32m~\\anaconda3\\lib\\site-packages\\selenium\\webdriver\\remote\\webdriver.py\u001b[0m in \u001b[0;36mfind_element_by_xpath\u001b[1;34m(self, xpath)\u001b[0m\n\u001b[0;32m    392\u001b[0m             \u001b[0melement\u001b[0m \u001b[1;33m=\u001b[0m \u001b[0mdriver\u001b[0m\u001b[1;33m.\u001b[0m\u001b[0mfind_element_by_xpath\u001b[0m\u001b[1;33m(\u001b[0m\u001b[1;34m'//div/td[1]'\u001b[0m\u001b[1;33m)\u001b[0m\u001b[1;33m\u001b[0m\u001b[1;33m\u001b[0m\u001b[0m\n\u001b[0;32m    393\u001b[0m         \"\"\"\n\u001b[1;32m--> 394\u001b[1;33m         \u001b[1;32mreturn\u001b[0m \u001b[0mself\u001b[0m\u001b[1;33m.\u001b[0m\u001b[0mfind_element\u001b[0m\u001b[1;33m(\u001b[0m\u001b[0mby\u001b[0m\u001b[1;33m=\u001b[0m\u001b[0mBy\u001b[0m\u001b[1;33m.\u001b[0m\u001b[0mXPATH\u001b[0m\u001b[1;33m,\u001b[0m \u001b[0mvalue\u001b[0m\u001b[1;33m=\u001b[0m\u001b[0mxpath\u001b[0m\u001b[1;33m)\u001b[0m\u001b[1;33m\u001b[0m\u001b[1;33m\u001b[0m\u001b[0m\n\u001b[0m\u001b[0;32m    395\u001b[0m \u001b[1;33m\u001b[0m\u001b[0m\n\u001b[0;32m    396\u001b[0m     \u001b[1;32mdef\u001b[0m \u001b[0mfind_elements_by_xpath\u001b[0m\u001b[1;33m(\u001b[0m\u001b[0mself\u001b[0m\u001b[1;33m,\u001b[0m \u001b[0mxpath\u001b[0m\u001b[1;33m)\u001b[0m\u001b[1;33m:\u001b[0m\u001b[1;33m\u001b[0m\u001b[1;33m\u001b[0m\u001b[0m\n",
      "\u001b[1;32m~\\anaconda3\\lib\\site-packages\\selenium\\webdriver\\remote\\webdriver.py\u001b[0m in \u001b[0;36mfind_element\u001b[1;34m(self, by, value)\u001b[0m\n\u001b[0;32m    974\u001b[0m                 \u001b[0mby\u001b[0m \u001b[1;33m=\u001b[0m \u001b[0mBy\u001b[0m\u001b[1;33m.\u001b[0m\u001b[0mCSS_SELECTOR\u001b[0m\u001b[1;33m\u001b[0m\u001b[1;33m\u001b[0m\u001b[0m\n\u001b[0;32m    975\u001b[0m                 \u001b[0mvalue\u001b[0m \u001b[1;33m=\u001b[0m \u001b[1;34m'[name=\"%s\"]'\u001b[0m \u001b[1;33m%\u001b[0m \u001b[0mvalue\u001b[0m\u001b[1;33m\u001b[0m\u001b[1;33m\u001b[0m\u001b[0m\n\u001b[1;32m--> 976\u001b[1;33m         return self.execute(Command.FIND_ELEMENT, {\n\u001b[0m\u001b[0;32m    977\u001b[0m             \u001b[1;34m'using'\u001b[0m\u001b[1;33m:\u001b[0m \u001b[0mby\u001b[0m\u001b[1;33m,\u001b[0m\u001b[1;33m\u001b[0m\u001b[1;33m\u001b[0m\u001b[0m\n\u001b[0;32m    978\u001b[0m             'value': value})['value']\n",
      "\u001b[1;32m~\\anaconda3\\lib\\site-packages\\selenium\\webdriver\\remote\\webdriver.py\u001b[0m in \u001b[0;36mexecute\u001b[1;34m(self, driver_command, params)\u001b[0m\n\u001b[0;32m    319\u001b[0m         \u001b[0mresponse\u001b[0m \u001b[1;33m=\u001b[0m \u001b[0mself\u001b[0m\u001b[1;33m.\u001b[0m\u001b[0mcommand_executor\u001b[0m\u001b[1;33m.\u001b[0m\u001b[0mexecute\u001b[0m\u001b[1;33m(\u001b[0m\u001b[0mdriver_command\u001b[0m\u001b[1;33m,\u001b[0m \u001b[0mparams\u001b[0m\u001b[1;33m)\u001b[0m\u001b[1;33m\u001b[0m\u001b[1;33m\u001b[0m\u001b[0m\n\u001b[0;32m    320\u001b[0m         \u001b[1;32mif\u001b[0m \u001b[0mresponse\u001b[0m\u001b[1;33m:\u001b[0m\u001b[1;33m\u001b[0m\u001b[1;33m\u001b[0m\u001b[0m\n\u001b[1;32m--> 321\u001b[1;33m             \u001b[0mself\u001b[0m\u001b[1;33m.\u001b[0m\u001b[0merror_handler\u001b[0m\u001b[1;33m.\u001b[0m\u001b[0mcheck_response\u001b[0m\u001b[1;33m(\u001b[0m\u001b[0mresponse\u001b[0m\u001b[1;33m)\u001b[0m\u001b[1;33m\u001b[0m\u001b[1;33m\u001b[0m\u001b[0m\n\u001b[0m\u001b[0;32m    322\u001b[0m             response['value'] = self._unwrap_value(\n\u001b[0;32m    323\u001b[0m                 response.get('value', None))\n",
      "\u001b[1;32m~\\anaconda3\\lib\\site-packages\\selenium\\webdriver\\remote\\errorhandler.py\u001b[0m in \u001b[0;36mcheck_response\u001b[1;34m(self, response)\u001b[0m\n\u001b[0;32m    240\u001b[0m                 \u001b[0malert_text\u001b[0m \u001b[1;33m=\u001b[0m \u001b[0mvalue\u001b[0m\u001b[1;33m[\u001b[0m\u001b[1;34m'alert'\u001b[0m\u001b[1;33m]\u001b[0m\u001b[1;33m.\u001b[0m\u001b[0mget\u001b[0m\u001b[1;33m(\u001b[0m\u001b[1;34m'text'\u001b[0m\u001b[1;33m)\u001b[0m\u001b[1;33m\u001b[0m\u001b[1;33m\u001b[0m\u001b[0m\n\u001b[0;32m    241\u001b[0m             \u001b[1;32mraise\u001b[0m \u001b[0mexception_class\u001b[0m\u001b[1;33m(\u001b[0m\u001b[0mmessage\u001b[0m\u001b[1;33m,\u001b[0m \u001b[0mscreen\u001b[0m\u001b[1;33m,\u001b[0m \u001b[0mstacktrace\u001b[0m\u001b[1;33m,\u001b[0m \u001b[0malert_text\u001b[0m\u001b[1;33m)\u001b[0m\u001b[1;33m\u001b[0m\u001b[1;33m\u001b[0m\u001b[0m\n\u001b[1;32m--> 242\u001b[1;33m         \u001b[1;32mraise\u001b[0m \u001b[0mexception_class\u001b[0m\u001b[1;33m(\u001b[0m\u001b[0mmessage\u001b[0m\u001b[1;33m,\u001b[0m \u001b[0mscreen\u001b[0m\u001b[1;33m,\u001b[0m \u001b[0mstacktrace\u001b[0m\u001b[1;33m)\u001b[0m\u001b[1;33m\u001b[0m\u001b[1;33m\u001b[0m\u001b[0m\n\u001b[0m\u001b[0;32m    243\u001b[0m \u001b[1;33m\u001b[0m\u001b[0m\n\u001b[0;32m    244\u001b[0m     \u001b[1;32mdef\u001b[0m \u001b[0m_value_or_default\u001b[0m\u001b[1;33m(\u001b[0m\u001b[0mself\u001b[0m\u001b[1;33m,\u001b[0m \u001b[0mobj\u001b[0m\u001b[1;33m,\u001b[0m \u001b[0mkey\u001b[0m\u001b[1;33m,\u001b[0m \u001b[0mdefault\u001b[0m\u001b[1;33m)\u001b[0m\u001b[1;33m:\u001b[0m\u001b[1;33m\u001b[0m\u001b[1;33m\u001b[0m\u001b[0m\n",
      "\u001b[1;31mWebDriverException\u001b[0m: Message: chrome not reachable\n  (Session info: chrome=92.0.4515.159)\n"
     ]
    }
   ],
   "source": [
    "impressao_etiqueta()\n",
    "# trocar_sala()\n",
    "# listar_carga()"
   ]
  },
  {
   "cell_type": "code",
   "execution_count": null,
   "id": "d16ab768",
   "metadata": {},
   "outputs": [],
   "source": []
  }
 ],
 "metadata": {
  "kernelspec": {
   "display_name": "Python 3",
   "language": "python",
   "name": "python3"
  },
  "language_info": {
   "codemirror_mode": {
    "name": "ipython",
    "version": 3
   },
   "file_extension": ".py",
   "mimetype": "text/x-python",
   "name": "python",
   "nbconvert_exporter": "python",
   "pygments_lexer": "ipython3",
   "version": "3.8.8"
  }
 },
 "nbformat": 4,
 "nbformat_minor": 5
}
